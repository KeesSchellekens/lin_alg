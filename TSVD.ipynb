{
 "cells": [
  {
   "cell_type": "code",
   "execution_count": 1,
   "id": "2240cbcf",
   "metadata": {},
   "outputs": [],
   "source": [
    "import numpy as np"
   ]
  },
  {
   "cell_type": "code",
   "execution_count": 2,
   "id": "59d2d090",
   "metadata": {},
   "outputs": [],
   "source": [
    "ar = np.array([\n",
    "    [0, 1,-1,-1, 0, 1],\n",
    "    [1, 1, 0, 0, 0,-1],\n",
    "    [1,-1, 0, 1,-1, 1],\n",
    "    [0, 2, 2, 1, 2, 0],\n",
    "    [2, 2, 2,-1, 2, 0],\n",
    "    [0, 0,-1,-1, 0, 0],\n",
    "    [1, 0, 1, 1, 1, 0],\n",
    "    [1, 1, 0, 1, 1, 0],])"
   ]
  },
  {
   "cell_type": "code",
   "execution_count": 3,
   "id": "7ad09e41",
   "metadata": {},
   "outputs": [],
   "source": [
    "svd = np.linalg.svd(ar, full_matrices=False)"
   ]
  },
  {
   "cell_type": "code",
   "execution_count": 4,
   "id": "5086b66a",
   "metadata": {},
   "outputs": [],
   "source": [
    "mid = np.array([[svd[1][0],0,0,0,0,0],\n",
    "               [0,svd[1][1],0,0,0,0],\n",
    "               [0,0,svd[1][2],0,0,0],\n",
    "               [0,0,0,svd[1][3],0,0],\n",
    "               [0,0,0,0,0,0],\n",
    "               [0,0,0,0,0,0],\n",
    "               ])"
   ]
  },
  {
   "cell_type": "code",
   "execution_count": 5,
   "id": "ca700a0f",
   "metadata": {},
   "outputs": [
    {
     "data": {
      "text/plain": [
       "array([5.6654928 , 2.97296101, 2.23196804, 1.67568867, 1.5866448 ,\n",
       "       0.86984976])"
      ]
     },
     "execution_count": 5,
     "metadata": {},
     "output_type": "execute_result"
    }
   ],
   "source": [
    "svd[1]"
   ]
  },
  {
   "cell_type": "code",
   "execution_count": 6,
   "id": "064050b3",
   "metadata": {},
   "outputs": [],
   "source": [
    "final = np.matmul(np.matmul(svd[0], mid),svd[2])"
   ]
  },
  {
   "cell_type": "code",
   "execution_count": 7,
   "id": "790cac7d",
   "metadata": {},
   "outputs": [
    {
     "data": {
      "text/plain": [
       "array([[-0.004,  0.875, -0.967, -1.071,  0.107,  1.051],\n",
       "       [ 0.934,  0.391,  0.444, -0.484,  0.325, -0.612],\n",
       "       [ 1.043, -1.038, -0.26 ,  1.111, -0.779,  0.883],\n",
       "       [ 0.007,  1.855,  1.971,  0.95 ,  2.171,  0.027],\n",
       "       [ 2.069,  2.303,  1.561, -0.652,  1.991, -0.3  ],\n",
       "       [-0.039,  0.149, -0.773, -1.046, -0.314,  0.069],\n",
       "       [ 0.975,  0.241,  1.132,  1.041,  0.657, -0.003],\n",
       "       [ 0.883,  0.72 ,  0.731,  0.519,  0.781,  0.437]])"
      ]
     },
     "execution_count": 7,
     "metadata": {},
     "output_type": "execute_result"
    }
   ],
   "source": [
    "final.round(decimals = 3)"
   ]
  }
 ],
 "metadata": {
  "kernelspec": {
   "display_name": "Python 3 (ipykernel)",
   "language": "python",
   "name": "python3"
  },
  "language_info": {
   "codemirror_mode": {
    "name": "ipython",
    "version": 3
   },
   "file_extension": ".py",
   "mimetype": "text/x-python",
   "name": "python",
   "nbconvert_exporter": "python",
   "pygments_lexer": "ipython3",
   "version": "3.9.13"
  }
 },
 "nbformat": 4,
 "nbformat_minor": 5
}
